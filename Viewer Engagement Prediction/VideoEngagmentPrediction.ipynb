{
 "cells": [
  {
   "cell_type": "code",
   "execution_count": 7,
   "id": "37d7dac7-e0bb-4c10-83fa-7dfbc381ace6",
   "metadata": {},
   "outputs": [],
   "source": [
    "%matplotlib widget\n",
    "\n",
    "import pandas as pd\n",
    "import numpy as np"
   ]
  },
  {
   "cell_type": "code",
   "execution_count": 8,
   "id": "a1f4a55f-3477-4d91-838c-dcd2cc975450",
   "metadata": {},
   "outputs": [],
   "source": [
    "# Load in training data\n",
    "data = pd.read_csv('assets/train.csv')\n",
    "testdata = pd.read_csv('assets/test.csv')\n"
   ]
  },
  {
   "cell_type": "code",
   "execution_count": 9,
   "id": "bbf2eb6b-2d24-4ef8-9ad4-1abf18c5e504",
   "metadata": {},
   "outputs": [],
   "source": [
    "# Data preprocessing\n",
    "\n",
    "from sklearn.preprocessing import StandardScaler\n",
    "from sklearn.preprocessing import MinMaxScaler\n",
    "from sklearn.model_selection import train_test_split\n",
    "\n",
    "# Split feacture data and target class \n",
    "X = data.iloc[:,:-1]\n",
    "y = data.iloc[:,-1]\n",
    "\n",
    "# Create Train-Test split\n",
    "X_train, X_test, y_train, y_test= train_test_split(X,y)\n",
    "\n",
    "#Convert booleans to 0 and 1\n",
    "y_train = y_train.astype(int)\n",
    "\n",
    "X_train.set_index('id', inplace = True)\n",
    "X_test.set_index('id', inplace = True)\n",
    "\n",
    "#Normalise data\n",
    "scaler = MinMaxScaler()\n",
    "\n",
    "X_train_scaled = scaler.fit_transform(X_train)\n",
    "\n",
    "X_test_scaled = scaler.fit_transform(X_test)\n",
    "\n",
    "\n",
    "X_train_norm = pd.DataFrame(X_train_scaled, columns = X_train.columns)\n",
    "X_test_norm = pd.DataFrame(X_test_scaled, columns = X_train.columns)\n"
   ]
  },
  {
   "cell_type": "code",
   "execution_count": 10,
   "id": "a08fca71-43c2-49a9-92a1-9bafd0c1e2fc",
   "metadata": {},
   "outputs": [],
   "source": [
    "# plotting a scatter matrix\n",
    "\n",
    "\n",
    "# from matplotlib import cm\n",
    "\n",
    "# X = X_train[['title_word_count', 'easiness', 'speaker_speed', 'silent_period_rate']]\n",
    "\n",
    "# cmap = cm.get_cmap('gnuplot')\n",
    "# scatter = pd.plotting.scatter_matrix(X_train_norm, c= y_train, marker = 'o', s=40, hist_kwds={'bins':15}, figsize=(9,9), cmap=cmap)"
   ]
  },
  {
   "cell_type": "code",
   "execution_count": 11,
   "id": "b10bd8c8-7734-4ea4-ae4b-20340714f84f",
   "metadata": {},
   "outputs": [
    {
     "name": "stdout",
     "output_type": "stream",
     "text": [
      "Ratio of target class false:  0.8991196420839948\n"
     ]
    }
   ],
   "source": [
    "# Checking class imbalance\n",
    "print(\"Ratio of target class false: \",len(y_train[y_train == 0])/len(y_train))"
   ]
  },
  {
   "cell_type": "code",
   "execution_count": 12,
   "id": "b4c28b55-5a97-412a-85cb-62f8df7dad88",
   "metadata": {},
   "outputs": [
    {
     "name": "stdout",
     "output_type": "stream",
     "text": [
      "AUC:  0.8437810873890419\n"
     ]
    }
   ],
   "source": [
    "# Logisitic regression\n",
    "from sklearn.metrics import roc_auc_score\n",
    "from sklearn.linear_model import LogisticRegression\n",
    "\n",
    "# Adjusting C to optimal value\n",
    "model_lr = LogisticRegression(C=100, solver='liblinear', max_iter=100, class_weight=None).fit(X_train_norm,y_train)\n",
    "\n",
    "y_predict_proba = model_lr.predict_proba(X_test_norm)[:, 1]\n",
    "\n",
    "\n",
    "AUC = roc_auc_score(y_test, y_predict_proba)\n",
    "\n",
    "print(\"AUC: \",AUC)"
   ]
  },
  {
   "cell_type": "code",
   "execution_count": null,
   "id": "ef1e1f14-1e3e-47eb-8b52-ef5ec37d2d00",
   "metadata": {},
   "outputs": [],
   "source": []
  }
 ],
 "metadata": {
  "kernelspec": {
   "display_name": "Python 3 (ipykernel)",
   "language": "python",
   "name": "python3"
  },
  "language_info": {
   "codemirror_mode": {
    "name": "ipython",
    "version": 3
   },
   "file_extension": ".py",
   "mimetype": "text/x-python",
   "name": "python",
   "nbconvert_exporter": "python",
   "pygments_lexer": "ipython3",
   "version": "3.9.13"
  }
 },
 "nbformat": 4,
 "nbformat_minor": 5
}
